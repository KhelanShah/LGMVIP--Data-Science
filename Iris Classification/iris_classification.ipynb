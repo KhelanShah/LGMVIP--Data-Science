{
  "nbformat": 4,
  "nbformat_minor": 0,
  "metadata": {
    "colab": {
      "name": "iris classification.ipynb",
      "provenance": [],
      "collapsed_sections": []
    },
    "kernelspec": {
      "name": "python3",
      "display_name": "Python 3"
    },
    "language_info": {
      "name": "python"
    }
  },
  "cells": [
    {
      "cell_type": "markdown",
      "metadata": {
        "id": "RtdpewS_0Gv1"
      },
      "source": [
        "#**KHELAN SHAH**\n",
        "### **LETSGROWMORE INTERNSHIP**\n",
        "### **TASK 1**\n",
        "### **IRIS CLASSIFICATION**"
      ]
    },
    {
      "cell_type": "markdown",
      "metadata": {
        "id": "jlwNFyAx4SxA"
      },
      "source": [
        "**Step:1 The first step is to import the libraries that are required for the implementation of the code operation. Here we import the Pandas to import and analyze data, NumPy to perform the multi-dimensional operation, and matplotlib to perform graphical plot into the context.**"
      ]
    },
    {
      "cell_type": "code",
      "metadata": {
        "id": "MoXBO9juxycA"
      },
      "source": [
        "import pandas as pd\n",
        "import numpy as np\n",
        "import seaborn as sns\n",
        "import matplotlib.pyplot as plt\n",
        "from sklearn.model_selection import train_test_split\n",
        "from sklearn.tree import DecisionTreeClassifier, plot_tree\n",
        "from sklearn import metrics"
      ],
      "execution_count": null,
      "outputs": []
    },
    {
      "cell_type": "markdown",
      "metadata": {
        "id": "QcAGEHdA4Zh6"
      },
      "source": [
        "<h5><b>Step:2 Import the Dataset</b></h5>"
      ]
    },
    {
      "cell_type": "code",
      "metadata": {
        "colab": {
          "base_uri": "https://localhost:8080/",
          "height": 221
        },
        "id": "7T64Y5PX1XnP",
        "outputId": "0ebcc77b-d990-4297-a621-076a9c08fe8f"
      },
      "source": [
        "df=pd.read_csv(\"Iris.csv\")\n",
        "print(\"Data printed successfully\")\n",
        "df.head()"
      ],
      "execution_count": null,
      "outputs": [
        {
          "output_type": "stream",
          "text": [
            "Data printed successfully\n"
          ],
          "name": "stdout"
        },
        {
          "output_type": "execute_result",
          "data": {
            "text/html": [
              "<div>\n",
              "<style scoped>\n",
              "    .dataframe tbody tr th:only-of-type {\n",
              "        vertical-align: middle;\n",
              "    }\n",
              "\n",
              "    .dataframe tbody tr th {\n",
              "        vertical-align: top;\n",
              "    }\n",
              "\n",
              "    .dataframe thead th {\n",
              "        text-align: right;\n",
              "    }\n",
              "</style>\n",
              "<table border=\"1\" class=\"dataframe\">\n",
              "  <thead>\n",
              "    <tr style=\"text-align: right;\">\n",
              "      <th></th>\n",
              "      <th>Id</th>\n",
              "      <th>SepalLengthCm</th>\n",
              "      <th>SepalWidthCm</th>\n",
              "      <th>PetalLengthCm</th>\n",
              "      <th>PetalWidthCm</th>\n",
              "      <th>Species</th>\n",
              "    </tr>\n",
              "  </thead>\n",
              "  <tbody>\n",
              "    <tr>\n",
              "      <th>0</th>\n",
              "      <td>1</td>\n",
              "      <td>5.1</td>\n",
              "      <td>3.5</td>\n",
              "      <td>1.4</td>\n",
              "      <td>0.2</td>\n",
              "      <td>Iris-setosa</td>\n",
              "    </tr>\n",
              "    <tr>\n",
              "      <th>1</th>\n",
              "      <td>2</td>\n",
              "      <td>4.9</td>\n",
              "      <td>3.0</td>\n",
              "      <td>1.4</td>\n",
              "      <td>0.2</td>\n",
              "      <td>Iris-setosa</td>\n",
              "    </tr>\n",
              "    <tr>\n",
              "      <th>2</th>\n",
              "      <td>3</td>\n",
              "      <td>4.7</td>\n",
              "      <td>3.2</td>\n",
              "      <td>1.3</td>\n",
              "      <td>0.2</td>\n",
              "      <td>Iris-setosa</td>\n",
              "    </tr>\n",
              "    <tr>\n",
              "      <th>3</th>\n",
              "      <td>4</td>\n",
              "      <td>4.6</td>\n",
              "      <td>3.1</td>\n",
              "      <td>1.5</td>\n",
              "      <td>0.2</td>\n",
              "      <td>Iris-setosa</td>\n",
              "    </tr>\n",
              "    <tr>\n",
              "      <th>4</th>\n",
              "      <td>5</td>\n",
              "      <td>5.0</td>\n",
              "      <td>3.6</td>\n",
              "      <td>1.4</td>\n",
              "      <td>0.2</td>\n",
              "      <td>Iris-setosa</td>\n",
              "    </tr>\n",
              "  </tbody>\n",
              "</table>\n",
              "</div>"
            ],
            "text/plain": [
              "   Id  SepalLengthCm  SepalWidthCm  PetalLengthCm  PetalWidthCm      Species\n",
              "0   1            5.1           3.5            1.4           0.2  Iris-setosa\n",
              "1   2            4.9           3.0            1.4           0.2  Iris-setosa\n",
              "2   3            4.7           3.2            1.3           0.2  Iris-setosa\n",
              "3   4            4.6           3.1            1.5           0.2  Iris-setosa\n",
              "4   5            5.0           3.6            1.4           0.2  Iris-setosa"
            ]
          },
          "metadata": {
            "tags": []
          },
          "execution_count": 22
        }
      ]
    },
    {
      "cell_type": "code",
      "metadata": {
        "id": "jMFnWpu88nJb"
      },
      "source": [
        "df.drop('Id',axis=1,inplace=True)"
      ],
      "execution_count": null,
      "outputs": []
    },
    {
      "cell_type": "code",
      "metadata": {
        "id": "dK_3fRNw5UMC"
      },
      "source": [
        "df1={'Iris-setosa':1,'Iris-versicolor':2,'Iris-virginica':3}\n",
        "df['Species'].replace(df1,inplace=True)"
      ],
      "execution_count": null,
      "outputs": []
    },
    {
      "cell_type": "code",
      "metadata": {
        "id": "SSTAzotJ8cyn"
      },
      "source": [
        "X=df.drop('Species',axis=1)\n",
        "y=df['Species']"
      ],
      "execution_count": null,
      "outputs": []
    },
    {
      "cell_type": "code",
      "metadata": {
        "colab": {
          "base_uri": "https://localhost:8080/"
        },
        "id": "mn_9eeUq-sdp",
        "outputId": "15e940d1-7a95-41f5-899e-222eafcf4c4b"
      },
      "source": [
        "df.groupby('Species').size()"
      ],
      "execution_count": null,
      "outputs": [
        {
          "output_type": "execute_result",
          "data": {
            "text/plain": [
              "Species\n",
              "1    50\n",
              "2    50\n",
              "3    50\n",
              "dtype: int64"
            ]
          },
          "metadata": {
            "tags": []
          },
          "execution_count": 26
        }
      ]
    },
    {
      "cell_type": "markdown",
      "metadata": {
        "id": "JEAGHqYmEJS7"
      },
      "source": [
        "<h5><b>Step:3 Splitting the dataset into training and testing models</b></h5>"
      ]
    },
    {
      "cell_type": "code",
      "metadata": {
        "id": "BfWygsHV_NAa"
      },
      "source": [
        "train,test= train_test_split(df, test_size = 0.70, stratify = df['Species'], random_state = 42)"
      ],
      "execution_count": null,
      "outputs": []
    },
    {
      "cell_type": "code",
      "metadata": {
        "id": "3sH9Iseu_6eY"
      },
      "source": [
        "X_train =train[['SepalLengthCm','SepalWidthCm','PetalLengthCm','PetalWidthCm']]\n",
        "y_train =train.Species\n",
        "X_test = test[['SepalLengthCm','SepalWidthCm','PetalLengthCm','PetalWidthCm']]\n",
        "y_test = test.Species"
      ],
      "execution_count": null,
      "outputs": []
    },
    {
      "cell_type": "markdown",
      "metadata": {
        "id": "FqggqcE0ERV_"
      },
      "source": [
        "<b><h5>Step:4 Training and Evaluating the model using Decision Tree Classifier</b></h5>\n",
        "\n",
        "---\n",
        "\n"
      ]
    },
    {
      "cell_type": "code",
      "metadata": {
        "colab": {
          "base_uri": "https://localhost:8080/"
        },
        "id": "v78z6bdy_qsd",
        "outputId": "1b31b95d-9d79-40f3-a402-ed3551b7595c"
      },
      "source": [
        "mod_dt = DecisionTreeClassifier(max_depth = 3, random_state = 1)\n",
        "mod_dt.fit(X_train,y_train)\n",
        "prediction=mod_dt.predict(X_test)\n",
        "print('The accuracy of the Decision Tree is',\"{:.3f}\".format(metrics.accuracy_score(prediction,y_test)))"
      ],
      "execution_count": null,
      "outputs": [
        {
          "output_type": "stream",
          "text": [
            "The accuracy of the Decision Tree is 0.933\n"
          ],
          "name": "stdout"
        }
      ]
    },
    {
      "cell_type": "markdown",
      "metadata": {
        "id": "gF9RF9nKEFJa"
      },
      "source": [
        "<h5><b>Step:5 Visualizing the dataset by finding relationship between data points with graphical respresentation.</h5></b>"
      ]
    },
    {
      "cell_type": "markdown",
      "metadata": {
        "id": "uIAkmuQ0ErKb"
      },
      "source": [
        "**HISTOGRAM**"
      ]
    },
    {
      "cell_type": "code",
      "metadata": {
        "colab": {
          "base_uri": "https://localhost:8080/",
          "height": 299
        },
        "id": "DQ_JaeKHC4sX",
        "outputId": "f30023b4-6b3e-4dd4-c734-3f540c447bad"
      },
      "source": [
        "n_bins = 10\n",
        "fig, axs = plt.subplots(2, 2)\n",
        "axs[0,0].hist(train['SepalLengthCm'], bins = n_bins);\n",
        "axs[0,0].set_title('SepalLengthCm');\n",
        "axs[0,1].hist(train['SepalWidthCm'], bins = n_bins);\n",
        "axs[0,1].set_title('SepalWidthCm');\n",
        "axs[1,0].hist(train['PetalLengthCm'], bins = n_bins);\n",
        "axs[1,0].set_title('PetalLengthCm');\n",
        "axs[1,1].hist(train['PetalWidthCm'], bins = n_bins);\n",
        "axs[1,1].set_title('PetalWidthCm');\n",
        "# add some spacing between subplots\n",
        "fig.tight_layout(pad=1.0);"
      ],
      "execution_count": null,
      "outputs": [
        {
          "output_type": "display_data",
          "data": {
            "image/png": "[encoded data removed]",
            "text/plain": [
              "<Figure size 432x288 with 4 Axes>"
            ]
          },
          "metadata": {
            "tags": [],
            "needs_background": "light"
          }
        }
      ]
    },
    {
      "cell_type": "markdown",
      "metadata": {
        "id": "mxmycuoNEv7k"
      },
      "source": [
        "**CORRELATION MATRIX**"
      ]
    },
    {
      "cell_type": "code",
      "metadata": {
        "colab": {
          "base_uri": "https://localhost:8080/",
          "height": 338
        },
        "id": "tp5aNwL599i0",
        "outputId": "b4df1a94-acb0-4405-f4f9-731b19e8a7a8"
      },
      "source": [
        "corrmat = train.corr()\n",
        "sns.heatmap(corrmat, annot = True, square = True);"
      ],
      "execution_count": null,
      "outputs": [
        {
          "output_type": "display_data",
          "data": {
            "image/png": "[encoded data removed]",
            "text/plain": [
              "<Figure size 432x288 with 2 Axes>"
            ]
          },
          "metadata": {
            "tags": [],
            "needs_background": "light"
          }
        }
      ]
    }
  ]
}