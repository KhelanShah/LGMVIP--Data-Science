{
  "nbformat": 4,
  "nbformat_minor": 0,
  "metadata": {
    "colab": {
      "name": "Music Recommendation System.ipynb",
      "provenance": [],
      "collapsed_sections": []
    },
    "kernelspec": {
      "name": "python3",
      "display_name": "Python 3"
    },
    "language_info": {
      "name": "python"
    }
  },
  "cells": [
    {
      "cell_type": "markdown",
      "metadata": {
        "id": "2X4Wok9K3q4J"
      },
      "source": [
        "#**KHELAN SHAH**\n",
        "### **LETSGROWMORE INTERNSHIP**\n",
        "### **TASK 5**\n",
        "### **MUSIC RECOMMENDATION SYSTEM**"
      ]
    },
    {
      "cell_type": "markdown",
      "metadata": {
        "id": "tzD6Bsnl3-p5"
      },
      "source": [
        "**Step-1 Importing the Libraries**"
      ]
    },
    {
      "cell_type": "code",
      "metadata": {
        "id": "qL5Ckiu2Rl-s"
      },
      "source": [
        "import numpy as np\n",
        "import pandas as pd\n",
        "from typing import List, Dict\n",
        "from sklearn.feature_extraction.text import TfidfVectorizer\n",
        "from sklearn.metrics.pairwise import cosine_similarity"
      ],
      "execution_count": 35,
      "outputs": []
    },
    {
      "cell_type": "code",
      "metadata": {
        "id": "tb-bGifFntMj"
      },
      "source": [
        "songs = pd.read_csv('song.csv')"
      ],
      "execution_count": 17,
      "outputs": []
    },
    {
      "cell_type": "code",
      "metadata": {
        "colab": {
          "base_uri": "https://localhost:8080/",
          "height": 203
        },
        "id": "Ygyn21dcnyKo",
        "outputId": "34427e32-b3af-4d68-8d46-9a8bc7ea5d51"
      },
      "source": [
        "songs.head()"
      ],
      "execution_count": 18,
      "outputs": [
        {
          "output_type": "execute_result",
          "data": {
            "text/html": [
              "<div>\n",
              "<style scoped>\n",
              "    .dataframe tbody tr th:only-of-type {\n",
              "        vertical-align: middle;\n",
              "    }\n",
              "\n",
              "    .dataframe tbody tr th {\n",
              "        vertical-align: top;\n",
              "    }\n",
              "\n",
              "    .dataframe thead th {\n",
              "        text-align: right;\n",
              "    }\n",
              "</style>\n",
              "<table border=\"1\" class=\"dataframe\">\n",
              "  <thead>\n",
              "    <tr style=\"text-align: right;\">\n",
              "      <th></th>\n",
              "      <th>artist</th>\n",
              "      <th>song</th>\n",
              "      <th>link</th>\n",
              "      <th>text</th>\n",
              "    </tr>\n",
              "  </thead>\n",
              "  <tbody>\n",
              "    <tr>\n",
              "      <th>0</th>\n",
              "      <td>ABBA</td>\n",
              "      <td>Ahe's My Kind Of Girl</td>\n",
              "      <td>/a/abba/ahes+my+kind+of+girl_20598417.html</td>\n",
              "      <td>Look at her face, it's a wonderful face  \\nAnd...</td>\n",
              "    </tr>\n",
              "    <tr>\n",
              "      <th>1</th>\n",
              "      <td>ABBA</td>\n",
              "      <td>Andante, Andante</td>\n",
              "      <td>/a/abba/andante+andante_20002708.html</td>\n",
              "      <td>Take it easy with me, please  \\nTouch me gentl...</td>\n",
              "    </tr>\n",
              "    <tr>\n",
              "      <th>2</th>\n",
              "      <td>ABBA</td>\n",
              "      <td>As Good As New</td>\n",
              "      <td>/a/abba/as+good+as+new_20003033.html</td>\n",
              "      <td>I'll never know why I had to go  \\nWhy I had t...</td>\n",
              "    </tr>\n",
              "    <tr>\n",
              "      <th>3</th>\n",
              "      <td>ABBA</td>\n",
              "      <td>Bang</td>\n",
              "      <td>/a/abba/bang_20598415.html</td>\n",
              "      <td>Making somebody happy is a question of give an...</td>\n",
              "    </tr>\n",
              "    <tr>\n",
              "      <th>4</th>\n",
              "      <td>ABBA</td>\n",
              "      <td>Bang-A-Boomerang</td>\n",
              "      <td>/a/abba/bang+a+boomerang_20002668.html</td>\n",
              "      <td>Making somebody happy is a question of give an...</td>\n",
              "    </tr>\n",
              "  </tbody>\n",
              "</table>\n",
              "</div>"
            ],
            "text/plain": [
              "  artist  ...                                               text\n",
              "0   ABBA  ...  Look at her face, it's a wonderful face  \\nAnd...\n",
              "1   ABBA  ...  Take it easy with me, please  \\nTouch me gentl...\n",
              "2   ABBA  ...  I'll never know why I had to go  \\nWhy I had t...\n",
              "3   ABBA  ...  Making somebody happy is a question of give an...\n",
              "4   ABBA  ...  Making somebody happy is a question of give an...\n",
              "\n",
              "[5 rows x 4 columns]"
            ]
          },
          "metadata": {
            "tags": []
          },
          "execution_count": 18
        }
      ]
    },
    {
      "cell_type": "markdown",
      "metadata": {
        "id": "wGvWJftm4NGP"
      },
      "source": [
        "**Step-2 Preprocessing the Dataset**"
      ]
    },
    {
      "cell_type": "markdown",
      "metadata": {
        "id": "L6-sDavs2h4k"
      },
      "source": [
        "\n",
        "We can notice also the presence of \\n in the text, so we are going to remove it."
      ]
    },
    {
      "cell_type": "code",
      "metadata": {
        "id": "RhjKrXlzoEEp"
      },
      "source": [
        "songs['text'] = songs['text'].str.replace(r'\\n', '')"
      ],
      "execution_count": 19,
      "outputs": []
    },
    {
      "cell_type": "markdown",
      "metadata": {
        "id": "7otOf3qC2nXV"
      },
      "source": [
        "\n",
        "After that, we use TF-IDF vectorizerthat calculates the TF-IDF score for each song lyric, word-by-word. \n",
        "\n",
        "Here, we pay particular attention to the arguments we can specify."
      ]
    },
    {
      "cell_type": "code",
      "metadata": {
        "id": "_OTlqSFb2k2-"
      },
      "source": [
        "tfidf = TfidfVectorizer(analyzer='word', stop_words='english')"
      ],
      "execution_count": 20,
      "outputs": []
    },
    {
      "cell_type": "code",
      "metadata": {
        "id": "rlECWp612qW7"
      },
      "source": [
        "lyrics_matrix = tfidf.fit_transform(songs['text'])"
      ],
      "execution_count": 21,
      "outputs": []
    },
    {
      "cell_type": "markdown",
      "metadata": {
        "id": "A_Ud0_cq2uEb"
      },
      "source": [
        "\n",
        "How do we use this matrix for a recommendation?\n",
        "\n",
        "We now need to calculate the similarity of one lyric to another. We are going to use cosine similarity.\n",
        "\n",
        "We want to calculate the cosine similarity of each item with every other item in the dataset. So we just pass the lyrics_matrix as argument."
      ]
    },
    {
      "cell_type": "code",
      "metadata": {
        "id": "kRMH66rJ2u6D"
      },
      "source": [
        "cosine_similarities = cosine_similarity(lyrics_matrix)"
      ],
      "execution_count": 22,
      "outputs": []
    },
    {
      "cell_type": "markdown",
      "metadata": {
        "id": "Ye2EvRPW2wvA"
      },
      "source": [
        "\n",
        "Once we get the similarities, we'll store in a dictionary the names of the 50 most similar songs for each song in our dataset."
      ]
    },
    {
      "cell_type": "code",
      "metadata": {
        "id": "DcFQdVXY2yw_"
      },
      "source": [
        "similarities = {}"
      ],
      "execution_count": 23,
      "outputs": []
    },
    {
      "cell_type": "code",
      "metadata": {
        "id": "gm8wRhI-20lw"
      },
      "source": [
        "for i in range(len(cosine_similarities)):\n",
        "    # Now we'll sort each element in cosine_similarities and get the indexes of the songs. \n",
        "    similar_indices = cosine_similarities[i].argsort()[:-50:-1] \n",
        "    # After that, we'll store in similarities each name of the 50 most similar songs.\n",
        "    # Except the first one that is the same song.\n",
        "    similarities[songs['song'].iloc[i]] = [(cosine_similarities[i][x], songs['song'][x], songs['artist'][x]) for x in similar_indices][1:]"
      ],
      "execution_count": 24,
      "outputs": []
    },
    {
      "cell_type": "markdown",
      "metadata": {
        "id": "cm8W4QIo234C"
      },
      "source": [
        "\n",
        "After that, all the magic happens. We can use that similarity scores to access the most similar items and give a recommendation.\n",
        "\n",
        "For that, we'll define our Content based recommender class."
      ]
    },
    {
      "cell_type": "code",
      "metadata": {
        "id": "m09Q1bGq24lo"
      },
      "source": [
        "class ContentBasedRecommender:\n",
        "    def __init__(self, matrix):\n",
        "        self.matrix_similar = matrix\n",
        "\n",
        "    def _print_message(self, song, recom_song):\n",
        "        rec_items = len(recom_song)\n",
        "        \n",
        "        print(f'The {rec_items} recommended songs for {song} are:')\n",
        "        for i in range(rec_items):\n",
        "            print(f\"Number {i+1}:\")\n",
        "            print(f\"{recom_song[i][1]} by {recom_song[i][2]} with {round(recom_song[i][0], 3)} similarity score\") \n",
        "            print(\"--------------------\")\n",
        "        \n",
        "    def recommend(self, recommendation):\n",
        "        # Get song to find recommendations for\n",
        "        song = recommendation['song']\n",
        "        # Get number of songs to recommend\n",
        "        number_songs = recommendation['number_songs']\n",
        "        # Get the number of songs most similars from matrix similarities\n",
        "        recom_song = self.matrix_similar[song][:number_songs]\n",
        "        # print each item\n",
        "        self._print_message(song=song, recom_song=recom_song)"
      ],
      "execution_count": 25,
      "outputs": []
    },
    {
      "cell_type": "markdown",
      "metadata": {
        "id": "HcTsAqHc28R1"
      },
      "source": [
        "Now, instantiate class"
      ]
    },
    {
      "cell_type": "code",
      "metadata": {
        "id": "Q89gFkmE26ts"
      },
      "source": [
        "recommedations = ContentBasedRecommender(similarities)"
      ],
      "execution_count": 26,
      "outputs": []
    },
    {
      "cell_type": "markdown",
      "metadata": {
        "id": "9WUEdfTw2-vk"
      },
      "source": [
        "\n",
        "Then, we are ready to pick a song from the dataset and make a recommendation."
      ]
    },
    {
      "cell_type": "code",
      "metadata": {
        "id": "ug8t55mz3AcF"
      },
      "source": [
        "recommendation = {\n",
        "    \"song\": songs['song'].iloc[10],\n",
        "    \"number_songs\": 4 \n",
        "}"
      ],
      "execution_count": 27,
      "outputs": []
    },
    {
      "cell_type": "code",
      "metadata": {
        "colab": {
          "base_uri": "https://localhost:8080/"
        },
        "id": "OhWl_Ik93DbR",
        "outputId": "a816a780-a3d2-4e30-b0b6-5a5322994f92"
      },
      "source": [
        "recommedations.recommend(recommendation)"
      ],
      "execution_count": 28,
      "outputs": [
        {
          "output_type": "stream",
          "text": [
            "The 4 recommended songs for Dance are:\n",
            "Number 1:\n",
            "Life Is A Dance by Chaka Khan with 0.568 similarity score\n",
            "--------------------\n",
            "Number 2:\n",
            "Do You Wanna Dance? by Beach Boys with 0.504 similarity score\n",
            "--------------------\n",
            "Number 3:\n",
            "Do You Wanna Dance? by Cliff Richard with 0.472 similarity score\n",
            "--------------------\n",
            "Number 4:\n",
            "Let's Dance by Chris Rea with 0.445 similarity score\n",
            "--------------------\n"
          ],
          "name": "stdout"
        }
      ]
    },
    {
      "cell_type": "markdown",
      "metadata": {
        "id": "R2n8mk673FOc"
      },
      "source": [
        "And we can pick another random song and recommend again:"
      ]
    },
    {
      "cell_type": "code",
      "metadata": {
        "id": "cdFJm1gh3InY"
      },
      "source": [
        "recommendation2 = {\n",
        "    \"song\": songs['song'].iloc[120],\n",
        "    \"number_songs\": 4 \n",
        "}"
      ],
      "execution_count": 33,
      "outputs": []
    },
    {
      "cell_type": "code",
      "metadata": {
        "colab": {
          "base_uri": "https://localhost:8080/"
        },
        "id": "9bJOhV3c3ZZD",
        "outputId": "5c332680-e04e-46c7-dd47-496943075364"
      },
      "source": [
        "recommedations.recommend(recommendation2)"
      ],
      "execution_count": 34,
      "outputs": [
        {
          "output_type": "stream",
          "text": [
            "The 4 recommended songs for Life Is A Flower are:\n",
            "Number 1:\n",
            "World Where You Live by Crowded House with 0.387 similarity score\n",
            "--------------------\n",
            "Number 2:\n",
            "All Over The World by Arlo Guthrie with 0.334 similarity score\n",
            "--------------------\n",
            "Number 3:\n",
            "The World Is Mine by David Guetta with 0.313 similarity score\n",
            "--------------------\n",
            "Number 4:\n",
            "World Of Two by Cake with 0.276 similarity score\n",
            "--------------------\n"
          ],
          "name": "stdout"
        }
      ]
    }
  ]
}